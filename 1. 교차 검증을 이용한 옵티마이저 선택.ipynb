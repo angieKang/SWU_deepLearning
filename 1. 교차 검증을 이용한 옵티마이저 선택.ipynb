{
  "nbformat": 4,
  "nbformat_minor": 0,
  "metadata": {
    "colab": {
      "name": "5-12 하이퍼파라미터최적화.ipynb",
      "provenance": []
    },
    "kernelspec": {
      "name": "python3",
      "display_name": "Python 3"
    },
    "language_info": {
      "name": "python"
    },
    "accelerator": "GPU"
  },
  "cells": [
    {
      "cell_type": "code",
      "metadata": {
        "id": "f7EnpZ_pMFZE"
      },
      "source": [
        "import numpy as np\n",
        "import tensorflow as tf\n",
        "from tensorflow.keras.datasets import fashion_mnist\n",
        "from tensorflow.keras.models import Sequential\n",
        "from tensorflow.keras.layers import Dense\n",
        "from tensorflow.keras.optimizers import SGD,Adam,Adagrad,RMSprop\n",
        "from sklearn.model_selection import KFold"
      ],
      "execution_count": null,
      "outputs": []
    },
    {
      "cell_type": "markdown",
      "metadata": {
        "id": "a5oXjk4hNKJG"
      },
      "source": [
        "fashion MNIST를 읽고 신경망에 입력할 형태로 변환"
      ]
    },
    {
      "cell_type": "code",
      "metadata": {
        "colab": {
          "base_uri": "https://localhost:8080/"
        },
        "id": "Uv_n_475M5U9",
        "outputId": "37420556-2ba5-4aa9-9fc3-4f6e303f56e6"
      },
      "source": [
        "(x_train, y_train), (x_test, y_test) = fashion_mnist.load_data()\n",
        "x_train = x_train.reshape(60000, 784)\n",
        "x_test = x_test.reshape(10000, 784)\n",
        "x_train = x_train.astype(np.float32)/255.0\n",
        "x_test = x_test.astype(np.float32)/255.0\n",
        "y_train = tf.keras.utils.to_categorical(y_train, 10)\n",
        "y_test = tf.keras.utils.to_categorical(y_test, 10)"
      ],
      "execution_count": null,
      "outputs": [
        {
          "output_type": "stream",
          "name": "stdout",
          "text": [
            "Downloading data from https://storage.googleapis.com/tensorflow/tf-keras-datasets/train-labels-idx1-ubyte.gz\n",
            "32768/29515 [=================================] - 0s 0us/step\n",
            "40960/29515 [=========================================] - 0s 0us/step\n",
            "Downloading data from https://storage.googleapis.com/tensorflow/tf-keras-datasets/train-images-idx3-ubyte.gz\n",
            "26427392/26421880 [==============================] - 0s 0us/step\n",
            "26435584/26421880 [==============================] - 0s 0us/step\n",
            "Downloading data from https://storage.googleapis.com/tensorflow/tf-keras-datasets/t10k-labels-idx1-ubyte.gz\n",
            "16384/5148 [===============================================================================================] - 0s 0us/step\n",
            "Downloading data from https://storage.googleapis.com/tensorflow/tf-keras-datasets/t10k-images-idx3-ubyte.gz\n",
            "4423680/4422102 [==============================] - 0s 0us/step\n",
            "4431872/4422102 [==============================] - 0s 0us/step\n"
          ]
        }
      ]
    },
    {
      "cell_type": "markdown",
      "metadata": {
        "id": "DJmpxCcYN1Iv"
      },
      "source": [
        "신경망 구조 설정"
      ]
    },
    {
      "cell_type": "code",
      "metadata": {
        "id": "2QPJytHBNzcS"
      },
      "source": [
        "n_input = 784\n",
        "n_hidden1 = 1024\n",
        "n_hidden2 = 512\n",
        "n_hidden3 = 512\n",
        "n_hidden4 = 512\n",
        "n_hidden5 = 512\n",
        "n_output = 10 "
      ],
      "execution_count": null,
      "outputs": []
    },
    {
      "cell_type": "markdown",
      "metadata": {
        "id": "iTYo9QXHOGj3"
      },
      "source": [
        "하이퍼매개변수 설정"
      ]
    },
    {
      "cell_type": "code",
      "metadata": {
        "id": "-sd9DkNGOF8J"
      },
      "source": [
        "batch_siz = 512\n",
        "n_epoch = 30\n",
        "k=5"
      ],
      "execution_count": null,
      "outputs": []
    },
    {
      "cell_type": "markdown",
      "metadata": {
        "id": "1whBu3feOODZ"
      },
      "source": [
        "모델을 설계해주는 함수(모델을 나타내는 객체 model을 반환)"
      ]
    },
    {
      "cell_type": "code",
      "metadata": {
        "id": "Z87YsNh5ONHh"
      },
      "source": [
        "def build_model():\n",
        "  model = Sequential()\n",
        "  model.add(Dense(units = n_hidden1, activation = 'relu', input_shape=(n_input,)))\n",
        "  model.add(Dense(units = n_hidden2, activation = 'relu'))\n",
        "  model.add(Dense(units = n_hidden3, activation = 'relu'))\n",
        "  model.add(Dense(units = n_hidden4, activation = 'relu'))\n",
        "  model.add(Dense(units = n_hidden5, activation = 'relu'))\n",
        "  model.add(Dense(units = n_output, activation = 'softmax'))\n",
        "  return model"
      ],
      "execution_count": null,
      "outputs": []
    },
    {
      "cell_type": "markdown",
      "metadata": {
        "id": "4bsWDgrhOr7D"
      },
      "source": [
        "교차 검증을 해주는 함수(서로 다른 옵티마이저(opt)에 대해)"
      ]
    },
    {
      "cell_type": "code",
      "metadata": {
        "id": "5yr6YDbGOrL3"
      },
      "source": [
        "def cross_validation(opt):\n",
        "  accuracy = []\n",
        "  for train_index, val_index in KFold(k).split(x_train):\n",
        "    xtrain, xval = x_train[train_index], x_train[val_index]\n",
        "    ytrain, yval = y_train[train_index], y_train[val_index]\n",
        "    dmlp = build_model()\n",
        "    dmlp.compile(loss = 'categorical_crossentropy', optimizer = opt, metrics=['accuracy'])\n",
        "    dmlp.fit(xtrain, ytrain, batch_size=batch_siz, epochs=n_epoch, verbose=0)\n",
        "    accuracy.append(dmlp.evaluate(xval, yval, verbose=0)[1])\n",
        "  return accuracy"
      ],
      "execution_count": null,
      "outputs": []
    },
    {
      "cell_type": "markdown",
      "metadata": {
        "id": "0Ivmcd_cP1Ff"
      },
      "source": [
        "옵티마이저 4개에 대해 교차 검증을 실행"
      ]
    },
    {
      "cell_type": "code",
      "metadata": {
        "id": "NrNoQt9TVQij"
      },
      "source": [
        "import time"
      ],
      "execution_count": null,
      "outputs": []
    },
    {
      "cell_type": "code",
      "metadata": {
        "colab": {
          "base_uri": "https://localhost:8080/"
        },
        "id": "4bh7kZYMp1_n",
        "outputId": "f60be080-fd0b-4b3a-e634-661eab373e38"
      },
      "source": [
        "start = time.time()\n",
        "acc_sgd=cross_validation(SGD())\n",
        "end = time.time()\n",
        "print(\"SGD 최적화에 걸린 시간은\",end-start,\"초입니다.\")"
      ],
      "execution_count": null,
      "outputs": [
        {
          "output_type": "stream",
          "name": "stdout",
          "text": [
            "SGD 최적화에 걸린 시간은 101.34848737716675 초입니다.\n"
          ]
        }
      ]
    },
    {
      "cell_type": "code",
      "metadata": {
        "colab": {
          "base_uri": "https://localhost:8080/"
        },
        "id": "SPKWQLUxp1zI",
        "outputId": "0f104227-c4bf-4a19-f4eb-5a422b61b900"
      },
      "source": [
        "start = time.time()\n",
        "acc_adam=cross_validation(Adam())\n",
        "end = time.time()\n",
        "print(\"Adam 최적화에 걸린 시간은\",end-start,\"초입니다.\")"
      ],
      "execution_count": null,
      "outputs": [
        {
          "output_type": "stream",
          "name": "stdout",
          "text": [
            "Adam 최적화에 걸린 시간은 97.51006603240967 초입니다.\n"
          ]
        }
      ]
    },
    {
      "cell_type": "code",
      "metadata": {
        "colab": {
          "base_uri": "https://localhost:8080/"
        },
        "id": "9YoQQrpap1jx",
        "outputId": "b419e203-9ee3-47a9-d39d-61ceb8ec262e"
      },
      "source": [
        "start = time.time()\n",
        "acc_adagrad = cross_validation(Adagrad())\n",
        "end = time.time()\n",
        "print(\"Adagrad 최적화에 걸린 시간은\",end-start,\"초입니다.\")"
      ],
      "execution_count": null,
      "outputs": [
        {
          "output_type": "stream",
          "name": "stdout",
          "text": [
            "Adagrad 최적화에 걸린 시간은 102.64751100540161 초입니다.\n"
          ]
        }
      ]
    },
    {
      "cell_type": "code",
      "metadata": {
        "colab": {
          "base_uri": "https://localhost:8080/"
        },
        "id": "fwuay37tPzOu",
        "outputId": "27837fef-a725-4e4c-c1a1-63fe6864f536"
      },
      "source": [
        "start = time.time()\n",
        "acc_rmsprop = cross_validation(RMSprop())\n",
        "end = time.time()\n",
        "print(\"RMSprop 최적화에 걸린 시간은\",end-start,\"초입니다.\")"
      ],
      "execution_count": null,
      "outputs": [
        {
          "output_type": "stream",
          "name": "stdout",
          "text": [
            "RMSprop 최적화에 걸린 시간은 176.52087998390198 초입니다.\n"
          ]
        }
      ]
    },
    {
      "cell_type": "markdown",
      "metadata": {
        "id": "v7Edd4IMQPtL"
      },
      "source": [
        "옵티마이저 4개의 정확률을 비교"
      ]
    },
    {
      "cell_type": "code",
      "metadata": {
        "colab": {
          "base_uri": "https://localhost:8080/"
        },
        "id": "sutNDH_nQEr9",
        "outputId": "854e5990-f4a9-48d4-f4ec-9ac710d9db65"
      },
      "source": [
        "print(\"SGD:\", np.array(acc_sgd).mean())\n",
        "print(\"Adam:\", np.array(acc_adam).mean())\n",
        "print(\"Adagrad:\", np.array(acc_adagrad).mean())\n",
        "print(\"RMSprop:\", np.array(acc_rmsprop).mean())"
      ],
      "execution_count": null,
      "outputs": [
        {
          "output_type": "stream",
          "name": "stdout",
          "text": [
            "SGD: 0.8568166613578796\n",
            "Adam: 0.8957000017166138\n",
            "Adagrad: 0.824216651916504\n",
            "RMSprop: 0.8939833402633667\n"
          ]
        }
      ]
    },
    {
      "cell_type": "markdown",
      "metadata": {
        "id": "pNWG2Feodxwz"
      },
      "source": [
        "네 옵티마이저의 정확률을 박스플롯으로 비교"
      ]
    },
    {
      "cell_type": "code",
      "metadata": {
        "colab": {
          "base_uri": "https://localhost:8080/",
          "height": 265
        },
        "id": "EQKksMdDd0sS",
        "outputId": "5f5a7a53-a9b3-43ef-fdea-dc00980db6ca"
      },
      "source": [
        "import matplotlib.pyplot as plt\n",
        "\n",
        "plt.boxplot([acc_sgd, acc_adam, acc_adagrad, acc_rmsprop], labels=[\"SGD\",\"Adam\",\"Adagrad\",\"RMSprop\"])\n",
        "plt.grid()"
      ],
      "execution_count": null,
      "outputs": [
        {
          "output_type": "display_data",
          "data": {
            "image/png": "[encoded data removed]",
            "text/plain": [
              "<Figure size 432x288 with 1 Axes>"
            ]
          },
          "metadata": {
            "needs_background": "light"
          }
        }
      ]
    },
    {
      "cell_type": "code",
      "metadata": {
        "id": "ZkIclvU6ZHmg"
      },
      "source": [
        ""
      ],
      "execution_count": null,
      "outputs": []
    }
  ]
}